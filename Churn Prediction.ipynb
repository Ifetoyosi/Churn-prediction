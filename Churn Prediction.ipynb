{
 "cells": [
  {
   "cell_type": "code",
   "execution_count": 1,
   "metadata": {},
   "outputs": [],
   "source": [
    "import pandas as pd\n",
    "import numpy as np\n",
    "import matplotlib.pyplot as plt\n",
    "import seaborn as sns\n",
    "from IPython.display import display\n",
    "\n",
    "\n",
    "import warnings\n",
    "warnings.filterwarnings(\"ignore\")\n"
   ]
  },
  {
   "cell_type": "code",
   "execution_count": 2,
   "metadata": {},
   "outputs": [],
   "source": [
    "%matplotlib inline\n",
    "plt.style.use('seaborn-notebook')\n",
    "plt.rcParams[\"figure.figsize\"] = (20, 3)\n",
    "pd.options.display.float_format = '{:20,.4f}'.format\n",
    "pd.set_option('display.max_columns', None)\n",
    "pd.set_option('display.max_rows', None)\n",
    "sns.set(context=\"paper\", font=\"monospace\")"
   ]
  },
  {
   "cell_type": "code",
   "execution_count": 3,
   "metadata": {},
   "outputs": [],
   "source": [
    "def quality_report(df):\n",
    "    \"\"\"\n",
    "    Description: Displays quality of data in terms of missing values, unique numbers, datatypes etc.\n",
    "    Arguments: Dataframe\n",
    "    \"\"\"\n",
    "    dtypes = df.dtypes\n",
    "    nuniq = df.T.apply(lambda x: x.nunique(), axis=1)\n",
    "    total = df.isnull().sum().sort_values(ascending = False)\n",
    "    percent = (df.isnull().sum()/df.isnull().count()*100).sort_values(ascending = False)\n",
    "    quality_df  = pd.concat([total, percent, nuniq, dtypes], axis=1, keys=['Total', 'Percent','Nunique', 'Dtype'])\n",
    "    display(quality_df)\n",
    "\n",
    "\n",
    "def object_count_plot(df):\n",
    "    \"\"\"\n",
    "    Description : Plot countplot for all categorical features present in the dataframe passed\n",
    "    Argument : Dataframe\n",
    "    \"\"\"\n",
    "    \n",
    "    for var in df.columns:\n",
    "        if df[var].dtype == 'object':\n",
    "            print(df[var].value_counts())\n",
    "            plt.figure(figsize=(12,5))\n",
    "            g = sns.countplot(x=var,data=df)\n",
    "            g.set_xticklabels(g.get_xticklabels(), rotation=90, ha=\"right\")\n",
    "            plt.tight_layout()\n",
    "            plt.show()\n",
    "            \n",
    "def numeric_distribution_plot(df):\n",
    "    \"\"\"\n",
    "    Description : Gives distribution plot for all the numeric features in the dataframe passed\n",
    "    Argument : Dataframe\n",
    "    \"\"\"\n",
    "    for col in df.columns:\n",
    "        if df[col].dtype != 'object':\n",
    "            print(df[col].describe())\n",
    "            plt.figure(figsize=(12,5))\n",
    "            plt.title(\"Distribution of \"+col)\n",
    "            ax = sns.distplot(df[col].dropna())\n",
    "            plt.tight_layout()\n",
    "            plt.show()"
   ]
  },
  {
   "cell_type": "code",
   "execution_count": 6,
   "metadata": {},
   "outputs": [],
   "source": [
    "train = pd.read_csv('Train(1).csv')\n",
    "test = pd.read_csv('Test(1).csv')\n",
    "sub = pd.read_csv('sample_submission(2).csv')"
   ]
  },
  {
   "cell_type": "code",
   "execution_count": 7,
   "metadata": {},
   "outputs": [],
   "source": [
    "train.set_index('user_id', inplace = True)\n",
    "test.set_index('user_id',inplace=True)"
   ]
  },
  {
   "cell_type": "code",
   "execution_count": 9,
   "metadata": {},
   "outputs": [
    {
     "name": "stdout",
     "output_type": "stream",
     "text": [
      "train shape is=  (400000, 18)\n",
      "test shape is =  (100000, 17)\n",
      "Sample sub shape is =  (100000, 2)\n"
     ]
    }
   ],
   "source": [
    "print(\"train shape is= \",train.shape)\n",
    "print(\"test shape is = \",test.shape)\n",
    "print(\"Sample sub shape is = \",sub.shape)"
   ]
  },
  {
   "cell_type": "code",
   "execution_count": 10,
   "metadata": {},
   "outputs": [
    {
     "data": {
      "text/html": [
       "<div>\n",
       "<style scoped>\n",
       "    .dataframe tbody tr th:only-of-type {\n",
       "        vertical-align: middle;\n",
       "    }\n",
       "\n",
       "    .dataframe tbody tr th {\n",
       "        vertical-align: top;\n",
       "    }\n",
       "\n",
       "    .dataframe thead th {\n",
       "        text-align: right;\n",
       "    }\n",
       "</style>\n",
       "<table border=\"1\" class=\"dataframe\">\n",
       "  <thead>\n",
       "    <tr style=\"text-align: right;\">\n",
       "      <th></th>\n",
       "      <th>REGION</th>\n",
       "      <th>TENURE</th>\n",
       "      <th>MONTANT</th>\n",
       "      <th>FREQUENCE_RECH</th>\n",
       "      <th>REVENUE</th>\n",
       "      <th>ARPU_SEGMENT</th>\n",
       "      <th>FREQUENCE</th>\n",
       "      <th>DATA_VOLUME</th>\n",
       "      <th>ON_NET</th>\n",
       "      <th>ORANGE</th>\n",
       "      <th>TIGO</th>\n",
       "      <th>ZONE1</th>\n",
       "      <th>ZONE2</th>\n",
       "      <th>MRG</th>\n",
       "      <th>REGULARITY</th>\n",
       "      <th>TOP_PACK</th>\n",
       "      <th>FREQ_TOP_PACK</th>\n",
       "      <th>CHURN</th>\n",
       "    </tr>\n",
       "    <tr>\n",
       "      <th>user_id</th>\n",
       "      <th></th>\n",
       "      <th></th>\n",
       "      <th></th>\n",
       "      <th></th>\n",
       "      <th></th>\n",
       "      <th></th>\n",
       "      <th></th>\n",
       "      <th></th>\n",
       "      <th></th>\n",
       "      <th></th>\n",
       "      <th></th>\n",
       "      <th></th>\n",
       "      <th></th>\n",
       "      <th></th>\n",
       "      <th></th>\n",
       "      <th></th>\n",
       "      <th></th>\n",
       "      <th></th>\n",
       "    </tr>\n",
       "  </thead>\n",
       "  <tbody>\n",
       "    <tr>\n",
       "      <td>c99676ab1d1dc69138e8e7f5e3b6b9e4f2563858</td>\n",
       "      <td>DIOURBEL</td>\n",
       "      <td>K &gt; 24 month</td>\n",
       "      <td>950.0000</td>\n",
       "      <td>4.0000</td>\n",
       "      <td>950.0000</td>\n",
       "      <td>317.0000</td>\n",
       "      <td>4.0000</td>\n",
       "      <td>0.0000</td>\n",
       "      <td>1.0000</td>\n",
       "      <td>3.0000</td>\n",
       "      <td>4.0000</td>\n",
       "      <td>nan</td>\n",
       "      <td>nan</td>\n",
       "      <td>NO</td>\n",
       "      <td>49</td>\n",
       "      <td>NaN</td>\n",
       "      <td>nan</td>\n",
       "      <td>0</td>\n",
       "    </tr>\n",
       "    <tr>\n",
       "      <td>e8bd4fb360d3bfcbd84710266a0b63ccfce7b85a</td>\n",
       "      <td>NaN</td>\n",
       "      <td>K &gt; 24 month</td>\n",
       "      <td>500.0000</td>\n",
       "      <td>1.0000</td>\n",
       "      <td>nan</td>\n",
       "      <td>nan</td>\n",
       "      <td>nan</td>\n",
       "      <td>nan</td>\n",
       "      <td>nan</td>\n",
       "      <td>nan</td>\n",
       "      <td>nan</td>\n",
       "      <td>nan</td>\n",
       "      <td>nan</td>\n",
       "      <td>NO</td>\n",
       "      <td>1</td>\n",
       "      <td>NaN</td>\n",
       "      <td>nan</td>\n",
       "      <td>1</td>\n",
       "    </tr>\n",
       "    <tr>\n",
       "      <td>28c6bedfa9846edbe98137e48c454556bc4610bd</td>\n",
       "      <td>NaN</td>\n",
       "      <td>K &gt; 24 month</td>\n",
       "      <td>nan</td>\n",
       "      <td>nan</td>\n",
       "      <td>nan</td>\n",
       "      <td>nan</td>\n",
       "      <td>nan</td>\n",
       "      <td>nan</td>\n",
       "      <td>nan</td>\n",
       "      <td>nan</td>\n",
       "      <td>nan</td>\n",
       "      <td>nan</td>\n",
       "      <td>nan</td>\n",
       "      <td>NO</td>\n",
       "      <td>2</td>\n",
       "      <td>NaN</td>\n",
       "      <td>nan</td>\n",
       "      <td>1</td>\n",
       "    </tr>\n",
       "    <tr>\n",
       "      <td>0642bb39b11e078290c9e1f52da381b2e60dd4c1</td>\n",
       "      <td>DAKAR</td>\n",
       "      <td>K &gt; 24 month</td>\n",
       "      <td>8,450.0000</td>\n",
       "      <td>29.0000</td>\n",
       "      <td>8,078.0000</td>\n",
       "      <td>2,693.0000</td>\n",
       "      <td>32.0000</td>\n",
       "      <td>1,159.0000</td>\n",
       "      <td>532.0000</td>\n",
       "      <td>114.0000</td>\n",
       "      <td>43.0000</td>\n",
       "      <td>nan</td>\n",
       "      <td>3.0000</td>\n",
       "      <td>NO</td>\n",
       "      <td>60</td>\n",
       "      <td>Mixt 250F=Unlimited_call24H</td>\n",
       "      <td>10.0000</td>\n",
       "      <td>0</td>\n",
       "    </tr>\n",
       "    <tr>\n",
       "      <td>3525df3a3e234546a5c0af4a6b2d3cb34d462cd2</td>\n",
       "      <td>NaN</td>\n",
       "      <td>K &gt; 24 month</td>\n",
       "      <td>nan</td>\n",
       "      <td>nan</td>\n",
       "      <td>nan</td>\n",
       "      <td>nan</td>\n",
       "      <td>nan</td>\n",
       "      <td>nan</td>\n",
       "      <td>nan</td>\n",
       "      <td>nan</td>\n",
       "      <td>nan</td>\n",
       "      <td>nan</td>\n",
       "      <td>nan</td>\n",
       "      <td>NO</td>\n",
       "      <td>1</td>\n",
       "      <td>NaN</td>\n",
       "      <td>nan</td>\n",
       "      <td>1</td>\n",
       "    </tr>\n",
       "  </tbody>\n",
       "</table>\n",
       "</div>"
      ],
      "text/plain": [
       "                                            REGION        TENURE  \\\n",
       "user_id                                                            \n",
       "c99676ab1d1dc69138e8e7f5e3b6b9e4f2563858  DIOURBEL  K > 24 month   \n",
       "e8bd4fb360d3bfcbd84710266a0b63ccfce7b85a       NaN  K > 24 month   \n",
       "28c6bedfa9846edbe98137e48c454556bc4610bd       NaN  K > 24 month   \n",
       "0642bb39b11e078290c9e1f52da381b2e60dd4c1     DAKAR  K > 24 month   \n",
       "3525df3a3e234546a5c0af4a6b2d3cb34d462cd2       NaN  K > 24 month   \n",
       "\n",
       "                                                      MONTANT  \\\n",
       "user_id                                                         \n",
       "c99676ab1d1dc69138e8e7f5e3b6b9e4f2563858             950.0000   \n",
       "e8bd4fb360d3bfcbd84710266a0b63ccfce7b85a             500.0000   \n",
       "28c6bedfa9846edbe98137e48c454556bc4610bd                  nan   \n",
       "0642bb39b11e078290c9e1f52da381b2e60dd4c1           8,450.0000   \n",
       "3525df3a3e234546a5c0af4a6b2d3cb34d462cd2                  nan   \n",
       "\n",
       "                                               FREQUENCE_RECH  \\\n",
       "user_id                                                         \n",
       "c99676ab1d1dc69138e8e7f5e3b6b9e4f2563858               4.0000   \n",
       "e8bd4fb360d3bfcbd84710266a0b63ccfce7b85a               1.0000   \n",
       "28c6bedfa9846edbe98137e48c454556bc4610bd                  nan   \n",
       "0642bb39b11e078290c9e1f52da381b2e60dd4c1              29.0000   \n",
       "3525df3a3e234546a5c0af4a6b2d3cb34d462cd2                  nan   \n",
       "\n",
       "                                                      REVENUE  \\\n",
       "user_id                                                         \n",
       "c99676ab1d1dc69138e8e7f5e3b6b9e4f2563858             950.0000   \n",
       "e8bd4fb360d3bfcbd84710266a0b63ccfce7b85a                  nan   \n",
       "28c6bedfa9846edbe98137e48c454556bc4610bd                  nan   \n",
       "0642bb39b11e078290c9e1f52da381b2e60dd4c1           8,078.0000   \n",
       "3525df3a3e234546a5c0af4a6b2d3cb34d462cd2                  nan   \n",
       "\n",
       "                                                 ARPU_SEGMENT  \\\n",
       "user_id                                                         \n",
       "c99676ab1d1dc69138e8e7f5e3b6b9e4f2563858             317.0000   \n",
       "e8bd4fb360d3bfcbd84710266a0b63ccfce7b85a                  nan   \n",
       "28c6bedfa9846edbe98137e48c454556bc4610bd                  nan   \n",
       "0642bb39b11e078290c9e1f52da381b2e60dd4c1           2,693.0000   \n",
       "3525df3a3e234546a5c0af4a6b2d3cb34d462cd2                  nan   \n",
       "\n",
       "                                                    FREQUENCE  \\\n",
       "user_id                                                         \n",
       "c99676ab1d1dc69138e8e7f5e3b6b9e4f2563858               4.0000   \n",
       "e8bd4fb360d3bfcbd84710266a0b63ccfce7b85a                  nan   \n",
       "28c6bedfa9846edbe98137e48c454556bc4610bd                  nan   \n",
       "0642bb39b11e078290c9e1f52da381b2e60dd4c1              32.0000   \n",
       "3525df3a3e234546a5c0af4a6b2d3cb34d462cd2                  nan   \n",
       "\n",
       "                                                  DATA_VOLUME  \\\n",
       "user_id                                                         \n",
       "c99676ab1d1dc69138e8e7f5e3b6b9e4f2563858               0.0000   \n",
       "e8bd4fb360d3bfcbd84710266a0b63ccfce7b85a                  nan   \n",
       "28c6bedfa9846edbe98137e48c454556bc4610bd                  nan   \n",
       "0642bb39b11e078290c9e1f52da381b2e60dd4c1           1,159.0000   \n",
       "3525df3a3e234546a5c0af4a6b2d3cb34d462cd2                  nan   \n",
       "\n",
       "                                                       ON_NET  \\\n",
       "user_id                                                         \n",
       "c99676ab1d1dc69138e8e7f5e3b6b9e4f2563858               1.0000   \n",
       "e8bd4fb360d3bfcbd84710266a0b63ccfce7b85a                  nan   \n",
       "28c6bedfa9846edbe98137e48c454556bc4610bd                  nan   \n",
       "0642bb39b11e078290c9e1f52da381b2e60dd4c1             532.0000   \n",
       "3525df3a3e234546a5c0af4a6b2d3cb34d462cd2                  nan   \n",
       "\n",
       "                                                       ORANGE  \\\n",
       "user_id                                                         \n",
       "c99676ab1d1dc69138e8e7f5e3b6b9e4f2563858               3.0000   \n",
       "e8bd4fb360d3bfcbd84710266a0b63ccfce7b85a                  nan   \n",
       "28c6bedfa9846edbe98137e48c454556bc4610bd                  nan   \n",
       "0642bb39b11e078290c9e1f52da381b2e60dd4c1             114.0000   \n",
       "3525df3a3e234546a5c0af4a6b2d3cb34d462cd2                  nan   \n",
       "\n",
       "                                                         TIGO  \\\n",
       "user_id                                                         \n",
       "c99676ab1d1dc69138e8e7f5e3b6b9e4f2563858               4.0000   \n",
       "e8bd4fb360d3bfcbd84710266a0b63ccfce7b85a                  nan   \n",
       "28c6bedfa9846edbe98137e48c454556bc4610bd                  nan   \n",
       "0642bb39b11e078290c9e1f52da381b2e60dd4c1              43.0000   \n",
       "3525df3a3e234546a5c0af4a6b2d3cb34d462cd2                  nan   \n",
       "\n",
       "                                                        ZONE1  \\\n",
       "user_id                                                         \n",
       "c99676ab1d1dc69138e8e7f5e3b6b9e4f2563858                  nan   \n",
       "e8bd4fb360d3bfcbd84710266a0b63ccfce7b85a                  nan   \n",
       "28c6bedfa9846edbe98137e48c454556bc4610bd                  nan   \n",
       "0642bb39b11e078290c9e1f52da381b2e60dd4c1                  nan   \n",
       "3525df3a3e234546a5c0af4a6b2d3cb34d462cd2                  nan   \n",
       "\n",
       "                                                        ZONE2 MRG  REGULARITY  \\\n",
       "user_id                                                                         \n",
       "c99676ab1d1dc69138e8e7f5e3b6b9e4f2563858                  nan  NO          49   \n",
       "e8bd4fb360d3bfcbd84710266a0b63ccfce7b85a                  nan  NO           1   \n",
       "28c6bedfa9846edbe98137e48c454556bc4610bd                  nan  NO           2   \n",
       "0642bb39b11e078290c9e1f52da381b2e60dd4c1               3.0000  NO          60   \n",
       "3525df3a3e234546a5c0af4a6b2d3cb34d462cd2                  nan  NO           1   \n",
       "\n",
       "                                                             TOP_PACK  \\\n",
       "user_id                                                                 \n",
       "c99676ab1d1dc69138e8e7f5e3b6b9e4f2563858                          NaN   \n",
       "e8bd4fb360d3bfcbd84710266a0b63ccfce7b85a                          NaN   \n",
       "28c6bedfa9846edbe98137e48c454556bc4610bd                          NaN   \n",
       "0642bb39b11e078290c9e1f52da381b2e60dd4c1  Mixt 250F=Unlimited_call24H   \n",
       "3525df3a3e234546a5c0af4a6b2d3cb34d462cd2                          NaN   \n",
       "\n",
       "                                                FREQ_TOP_PACK  CHURN  \n",
       "user_id                                                               \n",
       "c99676ab1d1dc69138e8e7f5e3b6b9e4f2563858                  nan      0  \n",
       "e8bd4fb360d3bfcbd84710266a0b63ccfce7b85a                  nan      1  \n",
       "28c6bedfa9846edbe98137e48c454556bc4610bd                  nan      1  \n",
       "0642bb39b11e078290c9e1f52da381b2e60dd4c1              10.0000      0  \n",
       "3525df3a3e234546a5c0af4a6b2d3cb34d462cd2                  nan      1  "
      ]
     },
     "execution_count": 10,
     "metadata": {},
     "output_type": "execute_result"
    }
   ],
   "source": [
    "train.sample(5)"
   ]
  },
  {
   "cell_type": "code",
   "execution_count": 11,
   "metadata": {},
   "outputs": [
    {
     "data": {
      "image/png": "[encoded data removed]",
      "text/plain": [
       "<Figure size 360x144 with 1 Axes>"
      ]
     },
     "metadata": {},
     "output_type": "display_data"
    }
   ],
   "source": [
    "plt.figure(figsize=(5,2))\n",
    "sns.countplot(x='CHURN',data=train)\n",
    "plt.show()"
   ]
  },
  {
   "cell_type": "code",
   "execution_count": 12,
   "metadata": {},
   "outputs": [
    {
     "data": {
      "text/plain": [
       "0                81.2890\n",
       "1                18.7110\n",
       "Name: CHURN, dtype: float64"
      ]
     },
     "execution_count": 12,
     "metadata": {},
     "output_type": "execute_result"
    }
   ],
   "source": [
    "train['CHURN'].value_counts(normalize = True) * 100"
   ]
  },
  {
   "cell_type": "code",
   "execution_count": 14,
   "metadata": {},
   "outputs": [
    {
     "data": {
      "text/plain": [
       "Index(['REGION', 'TENURE', 'MONTANT', 'FREQUENCE_RECH', 'REVENUE',\n",
       "       'ARPU_SEGMENT', 'FREQUENCE', 'DATA_VOLUME', 'ON_NET', 'ORANGE', 'TIGO',\n",
       "       'ZONE1', 'ZONE2', 'MRG', 'REGULARITY', 'TOP_PACK', 'FREQ_TOP_PACK',\n",
       "       'CHURN'],\n",
       "      dtype='object')"
      ]
     },
     "execution_count": 14,
     "metadata": {},
     "output_type": "execute_result"
    }
   ],
   "source": [
    "train.columns"
   ]
  },
  {
   "cell_type": "code",
   "execution_count": 15,
   "metadata": {},
   "outputs": [
    {
     "data": {
      "text/plain": [
       "Index(['REGION', 'TENURE', 'MONTANT', 'FREQUENCE_RECH', 'REVENUE',\n",
       "       'ARPU_SEGMENT', 'FREQUENCE', 'DATA_VOLUME', 'ON_NET', 'ORANGE', 'TIGO',\n",
       "       'ZONE1', 'ZONE2', 'MRG', 'REGULARITY', 'TOP_PACK', 'FREQ_TOP_PACK'],\n",
       "      dtype='object')"
      ]
     },
     "execution_count": 15,
     "metadata": {},
     "output_type": "execute_result"
    }
   ],
   "source": [
    "test.columns"
   ]
  },
  {
   "cell_type": "code",
   "execution_count": 16,
   "metadata": {},
   "outputs": [
    {
     "data": {
      "text/html": [
       "<div>\n",
       "<style scoped>\n",
       "    .dataframe tbody tr th:only-of-type {\n",
       "        vertical-align: middle;\n",
       "    }\n",
       "\n",
       "    .dataframe tbody tr th {\n",
       "        vertical-align: top;\n",
       "    }\n",
       "\n",
       "    .dataframe thead th {\n",
       "        text-align: right;\n",
       "    }\n",
       "</style>\n",
       "<table border=\"1\" class=\"dataframe\">\n",
       "  <thead>\n",
       "    <tr style=\"text-align: right;\">\n",
       "      <th></th>\n",
       "      <th>Total</th>\n",
       "      <th>Percent</th>\n",
       "      <th>Nunique</th>\n",
       "      <th>Dtype</th>\n",
       "    </tr>\n",
       "  </thead>\n",
       "  <tbody>\n",
       "    <tr>\n",
       "      <td>ARPU_SEGMENT</td>\n",
       "      <td>134663</td>\n",
       "      <td>33.6658</td>\n",
       "      <td>11014</td>\n",
       "      <td>float64</td>\n",
       "    </tr>\n",
       "    <tr>\n",
       "      <td>CHURN</td>\n",
       "      <td>0</td>\n",
       "      <td>0.0000</td>\n",
       "      <td>2</td>\n",
       "      <td>int64</td>\n",
       "    </tr>\n",
       "    <tr>\n",
       "      <td>DATA_VOLUME</td>\n",
       "      <td>196854</td>\n",
       "      <td>49.2135</td>\n",
       "      <td>22229</td>\n",
       "      <td>float64</td>\n",
       "    </tr>\n",
       "    <tr>\n",
       "      <td>FREQUENCE</td>\n",
       "      <td>134663</td>\n",
       "      <td>33.6658</td>\n",
       "      <td>91</td>\n",
       "      <td>float64</td>\n",
       "    </tr>\n",
       "    <tr>\n",
       "      <td>FREQUENCE_RECH</td>\n",
       "      <td>140277</td>\n",
       "      <td>35.0693</td>\n",
       "      <td>111</td>\n",
       "      <td>float64</td>\n",
       "    </tr>\n",
       "    <tr>\n",
       "      <td>FREQ_TOP_PACK</td>\n",
       "      <td>167329</td>\n",
       "      <td>41.8323</td>\n",
       "      <td>170</td>\n",
       "      <td>float64</td>\n",
       "    </tr>\n",
       "    <tr>\n",
       "      <td>MONTANT</td>\n",
       "      <td>140277</td>\n",
       "      <td>35.0693</td>\n",
       "      <td>2421</td>\n",
       "      <td>float64</td>\n",
       "    </tr>\n",
       "    <tr>\n",
       "      <td>MRG</td>\n",
       "      <td>0</td>\n",
       "      <td>0.0000</td>\n",
       "      <td>1</td>\n",
       "      <td>object</td>\n",
       "    </tr>\n",
       "    <tr>\n",
       "      <td>ON_NET</td>\n",
       "      <td>145819</td>\n",
       "      <td>36.4548</td>\n",
       "      <td>5996</td>\n",
       "      <td>float64</td>\n",
       "    </tr>\n",
       "    <tr>\n",
       "      <td>ORANGE</td>\n",
       "      <td>166317</td>\n",
       "      <td>41.5793</td>\n",
       "      <td>2072</td>\n",
       "      <td>float64</td>\n",
       "    </tr>\n",
       "    <tr>\n",
       "      <td>REGION</td>\n",
       "      <td>157520</td>\n",
       "      <td>39.3800</td>\n",
       "      <td>14</td>\n",
       "      <td>object</td>\n",
       "    </tr>\n",
       "    <tr>\n",
       "      <td>REGULARITY</td>\n",
       "      <td>0</td>\n",
       "      <td>0.0000</td>\n",
       "      <td>62</td>\n",
       "      <td>int64</td>\n",
       "    </tr>\n",
       "    <tr>\n",
       "      <td>REVENUE</td>\n",
       "      <td>134663</td>\n",
       "      <td>33.6658</td>\n",
       "      <td>23760</td>\n",
       "      <td>float64</td>\n",
       "    </tr>\n",
       "    <tr>\n",
       "      <td>TENURE</td>\n",
       "      <td>0</td>\n",
       "      <td>0.0000</td>\n",
       "      <td>8</td>\n",
       "      <td>object</td>\n",
       "    </tr>\n",
       "    <tr>\n",
       "      <td>TIGO</td>\n",
       "      <td>239386</td>\n",
       "      <td>59.8465</td>\n",
       "      <td>805</td>\n",
       "      <td>float64</td>\n",
       "    </tr>\n",
       "    <tr>\n",
       "      <td>TOP_PACK</td>\n",
       "      <td>167329</td>\n",
       "      <td>41.8323</td>\n",
       "      <td>111</td>\n",
       "      <td>object</td>\n",
       "    </tr>\n",
       "    <tr>\n",
       "      <td>ZONE1</td>\n",
       "      <td>368310</td>\n",
       "      <td>92.0775</td>\n",
       "      <td>319</td>\n",
       "      <td>float64</td>\n",
       "    </tr>\n",
       "    <tr>\n",
       "      <td>ZONE2</td>\n",
       "      <td>374487</td>\n",
       "      <td>93.6218</td>\n",
       "      <td>255</td>\n",
       "      <td>float64</td>\n",
       "    </tr>\n",
       "  </tbody>\n",
       "</table>\n",
       "</div>"
      ],
      "text/plain": [
       "                 Total              Percent  Nunique    Dtype\n",
       "ARPU_SEGMENT    134663              33.6658    11014  float64\n",
       "CHURN                0               0.0000        2    int64\n",
       "DATA_VOLUME     196854              49.2135    22229  float64\n",
       "FREQUENCE       134663              33.6658       91  float64\n",
       "FREQUENCE_RECH  140277              35.0693      111  float64\n",
       "FREQ_TOP_PACK   167329              41.8323      170  float64\n",
       "MONTANT         140277              35.0693     2421  float64\n",
       "MRG                  0               0.0000        1   object\n",
       "ON_NET          145819              36.4548     5996  float64\n",
       "ORANGE          166317              41.5793     2072  float64\n",
       "REGION          157520              39.3800       14   object\n",
       "REGULARITY           0               0.0000       62    int64\n",
       "REVENUE         134663              33.6658    23760  float64\n",
       "TENURE               0               0.0000        8   object\n",
       "TIGO            239386              59.8465      805  float64\n",
       "TOP_PACK        167329              41.8323      111   object\n",
       "ZONE1           368310              92.0775      319  float64\n",
       "ZONE2           374487              93.6218      255  float64"
      ]
     },
     "metadata": {},
     "output_type": "display_data"
    }
   ],
   "source": [
    "quality_report(train)"
   ]
  },
  {
   "cell_type": "code",
   "execution_count": 17,
   "metadata": {},
   "outputs": [],
   "source": [
    "train['MRG'].value_counts()\n",
    "train.drop(['ZONE1', 'ZONE2','MRG'], axis = 1, inplace = True)\n",
    "test.drop(['ZONE1', 'ZONE2', 'MRG'], axis = 1, inplace = True)\n"
   ]
  },
  {
   "cell_type": "code",
   "execution_count": 18,
   "metadata": {},
   "outputs": [],
   "source": [
    "test['CHURN'] = 'test'"
   ]
  },
  {
   "cell_type": "code",
   "execution_count": 19,
   "metadata": {},
   "outputs": [],
   "source": [
    "data = pd.concat([train, test]).reset_index(drop=True)"
   ]
  },
  {
   "cell_type": "code",
   "execution_count": 20,
   "metadata": {},
   "outputs": [
    {
     "data": {
      "text/plain": [
       "((500000, 15), (400000, 15), (100000, 15))"
      ]
     },
     "execution_count": 20,
     "metadata": {},
     "output_type": "execute_result"
    }
   ],
   "source": [
    "data.shape, train.shape, test.shape"
   ]
  },
  {
   "cell_type": "code",
   "execution_count": 21,
   "metadata": {},
   "outputs": [],
   "source": [
    "missing_col = data.columns[data.isna().any()]"
   ]
  },
  {
   "cell_type": "code",
   "execution_count": 22,
   "metadata": {},
   "outputs": [
    {
     "data": {
      "text/plain": [
       "Index(['REGION', 'MONTANT', 'FREQUENCE_RECH', 'REVENUE', 'ARPU_SEGMENT',\n",
       "       'FREQUENCE', 'DATA_VOLUME', 'ON_NET', 'ORANGE', 'TIGO', 'TOP_PACK',\n",
       "       'FREQ_TOP_PACK'],\n",
       "      dtype='object')"
      ]
     },
     "execution_count": 22,
     "metadata": {},
     "output_type": "execute_result"
    }
   ],
   "source": [
    "missing_col"
   ]
  },
  {
   "cell_type": "code",
   "execution_count": 25,
   "metadata": {},
   "outputs": [],
   "source": [
    "for col in missing_col.drop(['REGION', 'TOP_PACK']):\n",
    "    data[col].fillna(data[col].median(), inplace = True)"
   ]
  },
  {
   "cell_type": "code",
   "execution_count": 26,
   "metadata": {},
   "outputs": [],
   "source": [
    "for col in [ 'TOP_PACK', 'REGION']:\n",
    "    \n",
    "    data[col].fillna(col+'_NAN',inplace = True)"
   ]
  },
  {
   "cell_type": "code",
   "execution_count": 27,
   "metadata": {},
   "outputs": [
    {
     "data": {
      "text/plain": [
       "REGION            0\n",
       "TENURE            0\n",
       "MONTANT           0\n",
       "FREQUENCE_RECH    0\n",
       "REVENUE           0\n",
       "ARPU_SEGMENT      0\n",
       "FREQUENCE         0\n",
       "DATA_VOLUME       0\n",
       "ON_NET            0\n",
       "ORANGE            0\n",
       "TIGO              0\n",
       "REGULARITY        0\n",
       "TOP_PACK          0\n",
       "FREQ_TOP_PACK     0\n",
       "CHURN             0\n",
       "dtype: int64"
      ]
     },
     "execution_count": 27,
     "metadata": {},
     "output_type": "execute_result"
    }
   ],
   "source": [
    "\n",
    "\n",
    "data.isna().sum()\n",
    "\n"
   ]
  },
  {
   "cell_type": "code",
   "execution_count": 28,
   "metadata": {},
   "outputs": [
    {
     "name": "stdout",
     "output_type": "stream",
     "text": [
      "DAKAR          95517\n",
      "THIES          33374\n",
      "SAINT-LOUIS    22125\n",
      "LOUGA          18513\n",
      "KAOLACK        18042\n",
      "DIOURBEL       12576\n",
      "TAMBACOUNDA    10273\n",
      "KAFFRINE        8181\n",
      "KOLDA           7204\n",
      "FATICK          6638\n",
      "MATAM           5255\n",
      "ZIGUINCHOR      4012\n",
      "SEDHIOU          589\n",
      "KEDOUGOU         181\n",
      "Name: REGION, dtype: int64\n"
     ]
    },
    {
     "data": {
      "image/png": "[encoded data removed]",
      "text/plain": [
       "<Figure size 864x360 with 1 Axes>"
      ]
     },
     "metadata": {},
     "output_type": "display_data"
    },
    {
     "name": "stdout",
     "output_type": "stream",
     "text": [
      "K > 24 month     379439\n",
      "I 18-21 month      8312\n",
      "H 15-18 month      4858\n",
      "G 12-15 month      2788\n",
      "J 21-24 month      2325\n",
      "F 9-12 month       1771\n",
      "E 6-9 month         359\n",
      "D 3-6 month         148\n",
      "Name: TENURE, dtype: int64\n"
     ]
    },
    {
     "data": {
      "image/png": "[encoded data removed]",
      "text/plain": [
       "<Figure size 864x360 with 1 Axes>"
      ]
     },
     "metadata": {},
     "output_type": "display_data"
    }
   ],
   "source": [
    "object_count_plot(train.drop('TOP_PACK', axis = 1))"
   ]
  },
  {
   "cell_type": "code",
   "execution_count": 29,
   "metadata": {},
   "outputs": [
    {
     "name": "stdout",
     "output_type": "stream",
     "text": [
      "count           259,723.0000\n",
      "mean              5,522.9713\n",
      "std               7,099.6406\n",
      "min                  20.0000\n",
      "25%               1,000.0000\n",
      "50%               3,000.0000\n",
      "75%               7,300.0000\n",
      "max             226,550.0000\n",
      "Name: MONTANT, dtype: float64\n"
     ]
    },
    {
     "data": {
      "image/png": "[encoded data removed]",
      "text/plain": [
       "<Figure size 864x360 with 1 Axes>"
      ]
     },
     "metadata": {},
     "output_type": "display_data"
    },
    {
     "name": "stdout",
     "output_type": "stream",
     "text": [
      "count           259,723.0000\n",
      "mean                 11.5037\n",
      "std                  13.2755\n",
      "min                   1.0000\n",
      "25%                   2.0000\n",
      "50%                   6.0000\n",
      "75%                  15.0000\n",
      "max                 133.0000\n",
      "Name: FREQUENCE_RECH, dtype: float64\n"
     ]
    },
    {
     "data": {
      "image/png": "[encoded data removed]",
      "text/plain": [
       "<Figure size 864x360 with 1 Axes>"
      ]
     },
     "metadata": {},
     "output_type": "display_data"
    },
    {
     "name": "stdout",
     "output_type": "stream",
     "text": [
      "count           265,337.0000\n",
      "mean              5,505.4878\n",
      "std               7,175.8024\n",
      "min                   1.0000\n",
      "25%               1,000.0000\n",
      "50%               3,000.0000\n",
      "75%               7,340.0000\n",
      "max             233,413.0000\n",
      "Name: REVENUE, dtype: float64\n"
     ]
    },
    {
     "data": {
      "image/png": "[encoded data removed]",
      "text/plain": [
       "<Figure size 864x360 with 1 Axes>"
      ]
     },
     "metadata": {},
     "output_type": "display_data"
    },
    {
     "name": "stdout",
     "output_type": "stream",
     "text": [
      "count           265,337.0000\n",
      "mean              1,835.1677\n",
      "std               2,391.9293\n",
      "min                   0.0000\n",
      "25%                 333.0000\n",
      "50%               1,000.0000\n",
      "75%               2,447.0000\n",
      "max              77,804.0000\n",
      "Name: ARPU_SEGMENT, dtype: float64\n"
     ]
    },
    {
     "data": {
      "image/png": "[encoded data removed]",
      "text/plain": [
       "<Figure size 864x360 with 1 Axes>"
      ]
     },
     "metadata": {},
     "output_type": "display_data"
    },
    {
     "name": "stdout",
     "output_type": "stream",
     "text": [
      "count           265,337.0000\n",
      "mean                 13.9518\n",
      "std                  14.6799\n",
      "min                   1.0000\n",
      "25%                   3.0000\n",
      "50%                   9.0000\n",
      "75%                  19.0000\n",
      "max                  91.0000\n",
      "Name: FREQUENCE, dtype: float64\n"
     ]
    },
    {
     "data": {
      "image/png": "[encoded data removed]",
      "text/plain": [
       "<Figure size 864x360 with 1 Axes>"
      ]
     },
     "metadata": {},
     "output_type": "display_data"
    },
    {
     "name": "stdout",
     "output_type": "stream",
     "text": [
      "count           203,146.0000\n",
      "mean              3,369.7634\n",
      "std              12,281.8675\n",
      "min                   0.0000\n",
      "25%                   0.0000\n",
      "50%                 267.0000\n",
      "75%               2,925.0000\n",
      "max             934,576.0000\n",
      "Name: DATA_VOLUME, dtype: float64\n"
     ]
    },
    {
     "data": {
      "image/png": "[encoded data removed]",
      "text/plain": [
       "<Figure size 864x360 with 1 Axes>"
      ]
     },
     "metadata": {},
     "output_type": "display_data"
    },
    {
     "name": "stdout",
     "output_type": "stream",
     "text": [
      "count           254,181.0000\n",
      "mean                275.9176\n",
      "std                 873.5930\n",
      "min                   0.0000\n",
      "25%                   5.0000\n",
      "50%                  27.0000\n",
      "75%                 155.0000\n",
      "max              45,011.0000\n",
      "Name: ON_NET, dtype: float64\n"
     ]
    },
    {
     "data": {
      "image/png": "[encoded data removed]",
      "text/plain": [
       "<Figure size 864x360 with 1 Axes>"
      ]
     },
     "metadata": {},
     "output_type": "display_data"
    },
    {
     "name": "stdout",
     "output_type": "stream",
     "text": [
      "count           233,683.0000\n",
      "mean                 95.5329\n",
      "std                 204.7333\n",
      "min                   0.0000\n",
      "25%                   7.0000\n",
      "50%                  29.0000\n",
      "75%                  99.0000\n",
      "max               6,788.0000\n",
      "Name: ORANGE, dtype: float64\n"
     ]
    },
    {
     "data": {
      "image/png": "[encoded data removed]",
      "text/plain": [
       "<Figure size 864x360 with 1 Axes>"
      ]
     },
     "metadata": {},
     "output_type": "display_data"
    },
    {
     "name": "stdout",
     "output_type": "stream",
     "text": [
      "count           160,614.0000\n",
      "mean                 23.1346\n",
      "std                  63.0619\n",
      "min                   0.0000\n",
      "25%                   2.0000\n",
      "50%                   6.0000\n",
      "75%                  20.0000\n",
      "max               2,758.0000\n",
      "Name: TIGO, dtype: float64\n"
     ]
    },
    {
     "data": {
      "image/png": "[encoded data removed]",
      "text/plain": [
       "<Figure size 864x360 with 1 Axes>"
      ]
     },
     "metadata": {},
     "output_type": "display_data"
    },
    {
     "name": "stdout",
     "output_type": "stream",
     "text": [
      "count           400,000.0000\n",
      "mean                 28.0465\n",
      "std                  22.2828\n",
      "min                   1.0000\n",
      "25%                   6.0000\n",
      "50%                  24.0000\n",
      "75%                  51.0000\n",
      "max                  62.0000\n",
      "Name: REGULARITY, dtype: float64\n"
     ]
    },
    {
     "data": {
      "image/png": "[encoded data removed]",
      "text/plain": [
       "<Figure size 864x360 with 1 Axes>"
      ]
     },
     "metadata": {},
     "output_type": "display_data"
    },
    {
     "name": "stdout",
     "output_type": "stream",
     "text": [
      "count           232,671.0000\n",
      "mean                  9.2542\n",
      "std                  12.3056\n",
      "min                   1.0000\n",
      "25%                   2.0000\n",
      "50%                   5.0000\n",
      "75%                  12.0000\n",
      "max                 629.0000\n",
      "Name: FREQ_TOP_PACK, dtype: float64\n"
     ]
    },
    {
     "data": {
      "image/png": "[encoded data removed]",
      "text/plain": [
       "<Figure size 864x360 with 1 Axes>"
      ]
     },
     "metadata": {},
     "output_type": "display_data"
    }
   ],
   "source": [
    "numeric_distribution_plot(train.drop('CHURN', axis=1))"
   ]
  },
  {
   "cell_type": "code",
   "execution_count": 30,
   "metadata": {},
   "outputs": [],
   "source": [
    "from scipy.stats import skew,norm "
   ]
  },
  {
   "cell_type": "code",
   "execution_count": 31,
   "metadata": {},
   "outputs": [
    {
     "name": "stdout",
     "output_type": "stream",
     "text": [
      "There are 10 numerical features with Skew > 0.5 :\n"
     ]
    },
    {
     "data": {
      "text/plain": [
       "DATA_VOLUME                   35.8214\n",
       "TIGO                          18.4773\n",
       "ON_NET                        10.3886\n",
       "ORANGE                         9.2925\n",
       "FREQ_TOP_PACK                  5.6730\n",
       "MONTANT                        4.9914\n",
       "ARPU_SEGMENT                   4.6683\n",
       "REVENUE                        4.6683\n",
       "FREQUENCE_RECH                 2.8955\n",
       "FREQUENCE                      2.4513\n",
       "dtype: float64"
      ]
     },
     "execution_count": 31,
     "metadata": {},
     "output_type": "execute_result"
    }
   ],
   "source": [
    "numeric = data.select_dtypes(include='number').columns\n",
    "skew_features = data[numeric].apply(lambda x: skew(x)).sort_values(ascending=False)\n",
    "\n",
    "high_skew = skew_features[skew_features > 0.5]\n",
    "skew_index = high_skew.index\n",
    "\n",
    "print(\"There are {} numerical features with Skew > 0.5 :\".format(high_skew.shape[0]))\n",
    "skewness = pd.DataFrame({'Skew' :high_skew})\n",
    "skew_features.head(10)"
   ]
  },
  {
   "cell_type": "code",
   "execution_count": 35,
   "metadata": {},
   "outputs": [],
   "source": [
    "for column in skew_index:\n",
    "    data[column] = np.log1p(data[column])\n"
   ]
  },
  {
   "cell_type": "code",
   "execution_count": 36,
   "metadata": {},
   "outputs": [],
   "source": [
    "cat_features = data.select_dtypes(exclude=np.number).columns.drop('CHURN')"
   ]
  },
  {
   "cell_type": "code",
   "execution_count": 37,
   "metadata": {},
   "outputs": [
    {
     "data": {
      "text/plain": [
       "Index(['REGION', 'TENURE', 'TOP_PACK'], dtype='object')"
      ]
     },
     "execution_count": 37,
     "metadata": {},
     "output_type": "execute_result"
    }
   ],
   "source": [
    "cat_features"
   ]
  },
  {
   "cell_type": "code",
   "execution_count": 38,
   "metadata": {},
   "outputs": [
    {
     "name": "stdout",
     "output_type": "stream",
     "text": [
      "REGION has 15 unique categories\n",
      "TENURE has 8 unique categories\n",
      "TOP_PACK has 113 unique categories\n"
     ]
    }
   ],
   "source": [
    "for col in cat_features:\n",
    "    print('{} has {} unique categories'.format(col, data[col].nunique()))"
   ]
  },
  {
   "cell_type": "code",
   "execution_count": 39,
   "metadata": {},
   "outputs": [],
   "source": [
    "data = pd.get_dummies(columns= ['REGION', 'TENURE'], data = data)"
   ]
  },
  {
   "cell_type": "code",
   "execution_count": 40,
   "metadata": {},
   "outputs": [
    {
     "data": {
      "text/html": [
       "<div>\n",
       "<style scoped>\n",
       "    .dataframe tbody tr th:only-of-type {\n",
       "        vertical-align: middle;\n",
       "    }\n",
       "\n",
       "    .dataframe tbody tr th {\n",
       "        vertical-align: top;\n",
       "    }\n",
       "\n",
       "    .dataframe thead th {\n",
       "        text-align: right;\n",
       "    }\n",
       "</style>\n",
       "<table border=\"1\" class=\"dataframe\">\n",
       "  <thead>\n",
       "    <tr style=\"text-align: right;\">\n",
       "      <th></th>\n",
       "      <th>MONTANT</th>\n",
       "      <th>FREQUENCE_RECH</th>\n",
       "      <th>REVENUE</th>\n",
       "      <th>ARPU_SEGMENT</th>\n",
       "      <th>FREQUENCE</th>\n",
       "      <th>DATA_VOLUME</th>\n",
       "      <th>ON_NET</th>\n",
       "      <th>ORANGE</th>\n",
       "      <th>TIGO</th>\n",
       "      <th>REGULARITY</th>\n",
       "      <th>TOP_PACK</th>\n",
       "      <th>FREQ_TOP_PACK</th>\n",
       "      <th>CHURN</th>\n",
       "      <th>REGION_DAKAR</th>\n",
       "      <th>REGION_DIOURBEL</th>\n",
       "      <th>REGION_FATICK</th>\n",
       "      <th>REGION_KAFFRINE</th>\n",
       "      <th>REGION_KAOLACK</th>\n",
       "      <th>REGION_KEDOUGOU</th>\n",
       "      <th>REGION_KOLDA</th>\n",
       "      <th>REGION_LOUGA</th>\n",
       "      <th>REGION_MATAM</th>\n",
       "      <th>REGION_REGION_NAN</th>\n",
       "      <th>REGION_SAINT-LOUIS</th>\n",
       "      <th>REGION_SEDHIOU</th>\n",
       "      <th>REGION_TAMBACOUNDA</th>\n",
       "      <th>REGION_THIES</th>\n",
       "      <th>REGION_ZIGUINCHOR</th>\n",
       "      <th>TENURE_D 3-6 month</th>\n",
       "      <th>TENURE_E 6-9 month</th>\n",
       "      <th>TENURE_F 9-12 month</th>\n",
       "      <th>TENURE_G 12-15 month</th>\n",
       "      <th>TENURE_H 15-18 month</th>\n",
       "      <th>TENURE_I 18-21 month</th>\n",
       "      <th>TENURE_J 21-24 month</th>\n",
       "      <th>TENURE_K &gt; 24 month</th>\n",
       "    </tr>\n",
       "  </thead>\n",
       "  <tbody>\n",
       "    <tr>\n",
       "      <td>0</td>\n",
       "      <td>9.7410</td>\n",
       "      <td>3.4965</td>\n",
       "      <td>9.7982</td>\n",
       "      <td>8.6997</td>\n",
       "      <td>3.5553</td>\n",
       "      <td>5.5910</td>\n",
       "      <td>4.5850</td>\n",
       "      <td>5.8749</td>\n",
       "      <td>1.9459</td>\n",
       "      <td>62</td>\n",
       "      <td>All-net 500F=2000F;5d</td>\n",
       "      <td>3.5835</td>\n",
       "      <td>0</td>\n",
       "      <td>0</td>\n",
       "      <td>0</td>\n",
       "      <td>0</td>\n",
       "      <td>0</td>\n",
       "      <td>0</td>\n",
       "      <td>0</td>\n",
       "      <td>0</td>\n",
       "      <td>0</td>\n",
       "      <td>0</td>\n",
       "      <td>0</td>\n",
       "      <td>1</td>\n",
       "      <td>0</td>\n",
       "      <td>0</td>\n",
       "      <td>0</td>\n",
       "      <td>0</td>\n",
       "      <td>0</td>\n",
       "      <td>0</td>\n",
       "      <td>0</td>\n",
       "      <td>0</td>\n",
       "      <td>0</td>\n",
       "      <td>0</td>\n",
       "      <td>0</td>\n",
       "      <td>1</td>\n",
       "    </tr>\n",
       "    <tr>\n",
       "      <td>1</td>\n",
       "      <td>8.3666</td>\n",
       "      <td>3.4012</td>\n",
       "      <td>8.3957</td>\n",
       "      <td>7.2978</td>\n",
       "      <td>3.6376</td>\n",
       "      <td>7.4759</td>\n",
       "      <td>2.1972</td>\n",
       "      <td>1.3863</td>\n",
       "      <td>0.0000</td>\n",
       "      <td>40</td>\n",
       "      <td>Data: 100 F=40MB,24H</td>\n",
       "      <td>3.1355</td>\n",
       "      <td>0</td>\n",
       "      <td>0</td>\n",
       "      <td>0</td>\n",
       "      <td>0</td>\n",
       "      <td>0</td>\n",
       "      <td>0</td>\n",
       "      <td>0</td>\n",
       "      <td>0</td>\n",
       "      <td>0</td>\n",
       "      <td>0</td>\n",
       "      <td>1</td>\n",
       "      <td>0</td>\n",
       "      <td>0</td>\n",
       "      <td>0</td>\n",
       "      <td>0</td>\n",
       "      <td>0</td>\n",
       "      <td>0</td>\n",
       "      <td>0</td>\n",
       "      <td>0</td>\n",
       "      <td>0</td>\n",
       "      <td>0</td>\n",
       "      <td>0</td>\n",
       "      <td>0</td>\n",
       "      <td>1</td>\n",
       "    </tr>\n",
       "    <tr>\n",
       "      <td>2</td>\n",
       "      <td>7.3139</td>\n",
       "      <td>1.3863</td>\n",
       "      <td>7.3139</td>\n",
       "      <td>6.2166</td>\n",
       "      <td>1.3863</td>\n",
       "      <td>5.5910</td>\n",
       "      <td>3.4340</td>\n",
       "      <td>3.4340</td>\n",
       "      <td>1.9459</td>\n",
       "      <td>32</td>\n",
       "      <td>All-net 500F=2000F;5d</td>\n",
       "      <td>1.3863</td>\n",
       "      <td>0</td>\n",
       "      <td>0</td>\n",
       "      <td>0</td>\n",
       "      <td>0</td>\n",
       "      <td>0</td>\n",
       "      <td>0</td>\n",
       "      <td>0</td>\n",
       "      <td>0</td>\n",
       "      <td>0</td>\n",
       "      <td>0</td>\n",
       "      <td>0</td>\n",
       "      <td>0</td>\n",
       "      <td>0</td>\n",
       "      <td>1</td>\n",
       "      <td>0</td>\n",
       "      <td>0</td>\n",
       "      <td>0</td>\n",
       "      <td>0</td>\n",
       "      <td>0</td>\n",
       "      <td>0</td>\n",
       "      <td>0</td>\n",
       "      <td>0</td>\n",
       "      <td>0</td>\n",
       "      <td>1</td>\n",
       "    </tr>\n",
       "    <tr>\n",
       "      <td>3</td>\n",
       "      <td>7.3139</td>\n",
       "      <td>1.3863</td>\n",
       "      <td>7.8232</td>\n",
       "      <td>6.7250</td>\n",
       "      <td>1.6094</td>\n",
       "      <td>0.0000</td>\n",
       "      <td>5.0752</td>\n",
       "      <td>3.8286</td>\n",
       "      <td>2.9957</td>\n",
       "      <td>18</td>\n",
       "      <td>On net 200F=Unlimited _call24H</td>\n",
       "      <td>1.3863</td>\n",
       "      <td>0</td>\n",
       "      <td>0</td>\n",
       "      <td>0</td>\n",
       "      <td>1</td>\n",
       "      <td>0</td>\n",
       "      <td>0</td>\n",
       "      <td>0</td>\n",
       "      <td>0</td>\n",
       "      <td>0</td>\n",
       "      <td>0</td>\n",
       "      <td>0</td>\n",
       "      <td>0</td>\n",
       "      <td>0</td>\n",
       "      <td>0</td>\n",
       "      <td>0</td>\n",
       "      <td>0</td>\n",
       "      <td>0</td>\n",
       "      <td>0</td>\n",
       "      <td>0</td>\n",
       "      <td>0</td>\n",
       "      <td>0</td>\n",
       "      <td>0</td>\n",
       "      <td>0</td>\n",
       "      <td>1</td>\n",
       "    </tr>\n",
       "    <tr>\n",
       "      <td>4</td>\n",
       "      <td>8.0067</td>\n",
       "      <td>2.0794</td>\n",
       "      <td>6.2126</td>\n",
       "      <td>5.1180</td>\n",
       "      <td>1.3863</td>\n",
       "      <td>0.6931</td>\n",
       "      <td>0.6931</td>\n",
       "      <td>1.3863</td>\n",
       "      <td>1.9459</td>\n",
       "      <td>50</td>\n",
       "      <td>TOP_PACK_NAN</td>\n",
       "      <td>1.7918</td>\n",
       "      <td>0</td>\n",
       "      <td>0</td>\n",
       "      <td>0</td>\n",
       "      <td>1</td>\n",
       "      <td>0</td>\n",
       "      <td>0</td>\n",
       "      <td>0</td>\n",
       "      <td>0</td>\n",
       "      <td>0</td>\n",
       "      <td>0</td>\n",
       "      <td>0</td>\n",
       "      <td>0</td>\n",
       "      <td>0</td>\n",
       "      <td>0</td>\n",
       "      <td>0</td>\n",
       "      <td>0</td>\n",
       "      <td>0</td>\n",
       "      <td>0</td>\n",
       "      <td>0</td>\n",
       "      <td>0</td>\n",
       "      <td>0</td>\n",
       "      <td>0</td>\n",
       "      <td>0</td>\n",
       "      <td>1</td>\n",
       "    </tr>\n",
       "  </tbody>\n",
       "</table>\n",
       "</div>"
      ],
      "text/plain": [
       "               MONTANT       FREQUENCE_RECH              REVENUE  \\\n",
       "0               9.7410               3.4965               9.7982   \n",
       "1               8.3666               3.4012               8.3957   \n",
       "2               7.3139               1.3863               7.3139   \n",
       "3               7.3139               1.3863               7.8232   \n",
       "4               8.0067               2.0794               6.2126   \n",
       "\n",
       "          ARPU_SEGMENT            FREQUENCE          DATA_VOLUME  \\\n",
       "0               8.6997               3.5553               5.5910   \n",
       "1               7.2978               3.6376               7.4759   \n",
       "2               6.2166               1.3863               5.5910   \n",
       "3               6.7250               1.6094               0.0000   \n",
       "4               5.1180               1.3863               0.6931   \n",
       "\n",
       "                ON_NET               ORANGE                 TIGO  REGULARITY  \\\n",
       "0               4.5850               5.8749               1.9459          62   \n",
       "1               2.1972               1.3863               0.0000          40   \n",
       "2               3.4340               3.4340               1.9459          32   \n",
       "3               5.0752               3.8286               2.9957          18   \n",
       "4               0.6931               1.3863               1.9459          50   \n",
       "\n",
       "                         TOP_PACK        FREQ_TOP_PACK CHURN  REGION_DAKAR  \\\n",
       "0           All-net 500F=2000F;5d               3.5835     0             0   \n",
       "1            Data: 100 F=40MB,24H               3.1355     0             0   \n",
       "2           All-net 500F=2000F;5d               1.3863     0             0   \n",
       "3  On net 200F=Unlimited _call24H               1.3863     0             0   \n",
       "4                    TOP_PACK_NAN               1.7918     0             0   \n",
       "\n",
       "   REGION_DIOURBEL  REGION_FATICK  REGION_KAFFRINE  REGION_KAOLACK  \\\n",
       "0                0              0                0               0   \n",
       "1                0              0                0               0   \n",
       "2                0              0                0               0   \n",
       "3                0              1                0               0   \n",
       "4                0              1                0               0   \n",
       "\n",
       "   REGION_KEDOUGOU  REGION_KOLDA  REGION_LOUGA  REGION_MATAM  \\\n",
       "0                0             0             0             0   \n",
       "1                0             0             0             0   \n",
       "2                0             0             0             0   \n",
       "3                0             0             0             0   \n",
       "4                0             0             0             0   \n",
       "\n",
       "   REGION_REGION_NAN  REGION_SAINT-LOUIS  REGION_SEDHIOU  REGION_TAMBACOUNDA  \\\n",
       "0                  0                   1               0                   0   \n",
       "1                  1                   0               0                   0   \n",
       "2                  0                   0               0                   1   \n",
       "3                  0                   0               0                   0   \n",
       "4                  0                   0               0                   0   \n",
       "\n",
       "   REGION_THIES  REGION_ZIGUINCHOR  TENURE_D 3-6 month  TENURE_E 6-9 month  \\\n",
       "0             0                  0                   0                   0   \n",
       "1             0                  0                   0                   0   \n",
       "2             0                  0                   0                   0   \n",
       "3             0                  0                   0                   0   \n",
       "4             0                  0                   0                   0   \n",
       "\n",
       "   TENURE_F 9-12 month  TENURE_G 12-15 month  TENURE_H 15-18 month  \\\n",
       "0                    0                     0                     0   \n",
       "1                    0                     0                     0   \n",
       "2                    0                     0                     0   \n",
       "3                    0                     0                     0   \n",
       "4                    0                     0                     0   \n",
       "\n",
       "   TENURE_I 18-21 month  TENURE_J 21-24 month  TENURE_K > 24 month  \n",
       "0                     0                     0                    1  \n",
       "1                     0                     0                    1  \n",
       "2                     0                     0                    1  \n",
       "3                     0                     0                    1  \n",
       "4                     0                     0                    1  "
      ]
     },
     "execution_count": 40,
     "metadata": {},
     "output_type": "execute_result"
    }
   ],
   "source": [
    "data.head()"
   ]
  },
  {
   "cell_type": "code",
   "execution_count": 41,
   "metadata": {},
   "outputs": [],
   "source": [
    "data['TOP_PACK']  = pd.factorize(data['TOP_PACK'])[0]"
   ]
  },
  {
   "cell_type": "code",
   "execution_count": 42,
   "metadata": {},
   "outputs": [
    {
     "name": "stdout",
     "output_type": "stream",
     "text": [
      "<class 'pandas.core.frame.DataFrame'>\n",
      "RangeIndex: 500000 entries, 0 to 499999\n",
      "Data columns (total 36 columns):\n",
      "MONTANT                 500000 non-null float64\n",
      "FREQUENCE_RECH          500000 non-null float64\n",
      "REVENUE                 500000 non-null float64\n",
      "ARPU_SEGMENT            500000 non-null float64\n",
      "FREQUENCE               500000 non-null float64\n",
      "DATA_VOLUME             500000 non-null float64\n",
      "ON_NET                  500000 non-null float64\n",
      "ORANGE                  500000 non-null float64\n",
      "TIGO                    500000 non-null float64\n",
      "REGULARITY              500000 non-null int64\n",
      "TOP_PACK                500000 non-null int64\n",
      "FREQ_TOP_PACK           500000 non-null float64\n",
      "CHURN                   500000 non-null object\n",
      "REGION_DAKAR            500000 non-null uint8\n",
      "REGION_DIOURBEL         500000 non-null uint8\n",
      "REGION_FATICK           500000 non-null uint8\n",
      "REGION_KAFFRINE         500000 non-null uint8\n",
      "REGION_KAOLACK          500000 non-null uint8\n",
      "REGION_KEDOUGOU         500000 non-null uint8\n",
      "REGION_KOLDA            500000 non-null uint8\n",
      "REGION_LOUGA            500000 non-null uint8\n",
      "REGION_MATAM            500000 non-null uint8\n",
      "REGION_REGION_NAN       500000 non-null uint8\n",
      "REGION_SAINT-LOUIS      500000 non-null uint8\n",
      "REGION_SEDHIOU          500000 non-null uint8\n",
      "REGION_TAMBACOUNDA      500000 non-null uint8\n",
      "REGION_THIES            500000 non-null uint8\n",
      "REGION_ZIGUINCHOR       500000 non-null uint8\n",
      "TENURE_D 3-6 month      500000 non-null uint8\n",
      "TENURE_E 6-9 month      500000 non-null uint8\n",
      "TENURE_F 9-12 month     500000 non-null uint8\n",
      "TENURE_G 12-15 month    500000 non-null uint8\n",
      "TENURE_H 15-18 month    500000 non-null uint8\n",
      "TENURE_I 18-21 month    500000 non-null uint8\n",
      "TENURE_J 21-24 month    500000 non-null uint8\n",
      "TENURE_K > 24 month     500000 non-null uint8\n",
      "dtypes: float64(10), int64(2), object(1), uint8(23)\n",
      "memory usage: 60.6+ MB\n"
     ]
    }
   ],
   "source": [
    "data.info()"
   ]
  },
  {
   "cell_type": "code",
   "execution_count": 43,
   "metadata": {},
   "outputs": [],
   "source": [
    "train_df = data.loc[( data['CHURN'] != 'test')].reset_index(drop = True)\n",
    "test_df = data.loc[( data['CHURN'] == 'test')].reset_index(drop = True)"
   ]
  },
  {
   "cell_type": "code",
   "execution_count": 44,
   "metadata": {},
   "outputs": [
    {
     "data": {
      "text/plain": [
       "((400000, 36), (100000, 15))"
      ]
     },
     "execution_count": 44,
     "metadata": {},
     "output_type": "execute_result"
    }
   ],
   "source": [
    "train_df.shape, test.shape"
   ]
  },
  {
   "cell_type": "code",
   "execution_count": 45,
   "metadata": {},
   "outputs": [],
   "source": [
    "X = train_df.drop('CHURN', axis = 1)\n",
    "y = train_df['CHURN'].apply(int)"
   ]
  },
  {
   "cell_type": "code",
   "execution_count": 46,
   "metadata": {},
   "outputs": [],
   "source": [
    "from sklearn.model_selection import train_test_split\n",
    "from sklearn.metrics import log_loss\n",
    "\n",
    "from sklearn.linear_model import LogisticRegression\n",
    "from sklearn.ensemble import RandomForestClassifier, GradientBoostingClassifier\n",
    "from sklearn.tree import DecisionTreeClassifier"
   ]
  },
  {
   "cell_type": "code",
   "execution_count": 47,
   "metadata": {},
   "outputs": [],
   "source": [
    "X_train, X_test, y_train, y_test = train_test_split(X, y, test_size=0.3,stratify = y,  random_state=42)"
   ]
  },
  {
   "cell_type": "code",
   "execution_count": 48,
   "metadata": {},
   "outputs": [],
   "source": [
    "lr = LogisticRegression()\n",
    "rf = RandomForestClassifier()\n",
    "gbm = GradientBoostingClassifier()\n",
    "decision_tree = DecisionTreeClassifier()"
   ]
  },
  {
   "cell_type": "code",
   "execution_count": 52,
   "metadata": {},
   "outputs": [
    {
     "data": {
      "text/plain": [
       "DecisionTreeClassifier(class_weight=None, criterion='gini', max_depth=None,\n",
       "                       max_features=None, max_leaf_nodes=None,\n",
       "                       min_impurity_decrease=0.0, min_impurity_split=None,\n",
       "                       min_samples_leaf=1, min_samples_split=2,\n",
       "                       min_weight_fraction_leaf=0.0, presort=False,\n",
       "                       random_state=None, splitter='best')"
      ]
     },
     "execution_count": 52,
     "metadata": {},
     "output_type": "execute_result"
    }
   ],
   "source": [
    "lr.fit(X_train, y_train)\n",
    "rf.fit(X_train, y_train)\n",
    "gbm.fit(X_train, y_train)\n",
    "decision_tree.fit(X_train, y_train)"
   ]
  },
  {
   "cell_type": "code",
   "execution_count": 54,
   "metadata": {},
   "outputs": [
    {
     "name": "stdout",
     "output_type": "stream",
     "text": [
      "Logistic Regression Log loss: 0.26428890436055\n",
      "RandomForestClassifier Log loss: 0.5453252661470424\n",
      "GradientBoostingClassifier Log loss: 0.25436719488625925\n",
      "DecisionTreeClassifier Log loss: 2.2802712270128964\n"
     ]
    }
   ],
   "source": [
    "print('Logistic Regression Log loss: {}'.format(log_loss(y_test, lr.predict_proba(X_test)[:,1])))\n",
    "print('RandomForestClassifier Log loss: {}'.format(log_loss(y_test, rf.predict_proba(X_test)[:,1])))\n",
    "print('GradientBoostingClassifier Log loss: {}'.format(log_loss(y_test, gbm.predict_proba(X_test)[:,1])))\n",
    "print('DecisionTreeClassifier Log loss: {}'.format(log_loss(y_test, decision_tree.predict_proba(X_test)[:,1])))"
   ]
  },
  {
   "cell_type": "code",
   "execution_count": 55,
   "metadata": {},
   "outputs": [
    {
     "data": {
      "image/png": "[encoded data removed]",
      "text/plain": [
       "<Figure size 864x432 with 1 Axes>"
      ]
     },
     "metadata": {},
     "output_type": "display_data"
    }
   ],
   "source": [
    "feature_importance_df = pd.DataFrame(rf.feature_importances_, columns=['importance'])\n",
    "feature_importance_df['feature'] = X.columns\n",
    "\n",
    "plt.figure(figsize=(12, 6));\n",
    "sns.barplot(x=\"importance\", y=\"feature\", data=feature_importance_df.sort_values(by = ['importance'], ascending = False).head(20))\n",
    "plt.title('RandomForestClassifier features importance:');"
   ]
  },
  {
   "cell_type": "code",
   "execution_count": 56,
   "metadata": {},
   "outputs": [],
   "source": [
    "test_x = test_df.drop('CHURN', axis = 1)"
   ]
  },
  {
   "cell_type": "code",
   "execution_count": 57,
   "metadata": {},
   "outputs": [],
   "source": [
    "prediction = gbm.predict_proba(test_x)[:, 1]"
   ]
  },
  {
   "cell_type": "code",
   "execution_count": 59,
   "metadata": {},
   "outputs": [],
   "source": [
    "\n",
    "sub['CHURN'] = prediction\n",
    "sub.to_csv('submission.csv', index =False)\n"
   ]
  },
  {
   "cell_type": "code",
   "execution_count": null,
   "metadata": {},
   "outputs": [],
   "source": []
  }
 ],
 "metadata": {
  "kernelspec": {
   "display_name": "Python 3",
   "language": "python",
   "name": "python3"
  },
  "language_info": {
   "codemirror_mode": {
    "name": "ipython",
    "version": 3
   },
   "file_extension": ".py",
   "mimetype": "text/x-python",
   "name": "python",
   "nbconvert_exporter": "python",
   "pygments_lexer": "ipython3",
   "version": "3.7.4"
  }
 },
 "nbformat": 4,
 "nbformat_minor": 2
}
